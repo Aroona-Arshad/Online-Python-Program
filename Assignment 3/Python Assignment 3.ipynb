{
 "cells": [
  {
   "cell_type": "code",
   "execution_count": 1,
   "id": "87d6704e",
   "metadata": {},
   "outputs": [
    {
     "name": "stdout",
     "output_type": "stream",
     "text": [
      "Twinkle,twinkle,little star,  \n",
      "        How i wonder what you are! \n",
      "                Up above the world so high, \n",
      "                like a diamond in the sky. \n",
      " Twinkle,twinkle,little star, \n",
      "         How I wonder what you are\n"
     ]
    }
   ],
   "source": [
    "# 1. Write a Python program to print the following string in a specific format.\n",
    "\n",
    "print(\"Twinkle,twinkle,little star,  \\n        How i wonder what you are! \\n                Up above the world so high, \\n                like a diamond in the sky. \\n Twinkle,twinkle,little star, \\n         How I wonder what you are\")"
   ]
  },
  {
   "cell_type": "code",
   "execution_count": 2,
   "id": "e83404c3",
   "metadata": {},
   "outputs": [
    {
     "name": "stdout",
     "output_type": "stream",
     "text": [
      "python version\n",
      "3.8.8 (default, Apr 13 2021, 15:08:03) [MSC v.1916 64 bit (AMD64)]\n",
      "version info.\n",
      "sys.version_info(major=3, minor=8, micro=8, releaselevel='final', serial=0)\n"
     ]
    }
   ],
   "source": [
    "# 2. Write a Python program to get the Python version you are using.\n",
    "\n",
    "import sys\n",
    "print(\"python version\")\n",
    "print(sys.version)\n",
    "print(\"version info.\")\n",
    "print(sys.version_info)"
   ]
  },
  {
   "cell_type": "code",
   "execution_count": 3,
   "id": "519b823b",
   "metadata": {},
   "outputs": [
    {
     "name": "stdout",
     "output_type": "stream",
     "text": [
      "current date and time is:\n",
      "21-10-24 12:02:54\n"
     ]
    }
   ],
   "source": [
    "# 3. Write a Python program to display the current date and time.\n",
    "import datetime\n",
    "now = datetime.datetime.now()\n",
    "print(\"current date and time is:\")\n",
    "print(now.strftime(\"%y-%m-%d %H:%M:%S\"))"
   ]
  },
  {
   "cell_type": "code",
   "execution_count": 4,
   "id": "dcce01ec",
   "metadata": {},
   "outputs": [
    {
     "name": "stdout",
     "output_type": "stream",
     "text": [
      "enter radius of circle 6\n",
      "Area of circle is 113.04\n"
     ]
    }
   ],
   "source": [
    "# 4. Write a Python program which accepts the radius of a circle from the user and compute the area.\n",
    "r = int(input(\"enter radius of circle \"))\n",
    "a = 3.14 * r ** 2\n",
    "print(\"Area of circle is\",a)"
   ]
  },
  {
   "cell_type": "code",
   "execution_count": 5,
   "id": "4c995177",
   "metadata": {},
   "outputs": [
    {
     "name": "stdout",
     "output_type": "stream",
     "text": [
      "Enter first name Aroona\n",
      "Enter last name Arshad\n",
      "Arshad Aroona\n"
     ]
    }
   ],
   "source": [
    "\"\"\" 5. Write a Python program which accepts the user's first and last name and print them in\n",
    "reverse order with a space between them\"\"\"\n",
    "\n",
    "name1 = input(\"Enter first name \")\n",
    "name2 = input(\"Enter last name \");\n",
    "print( name2 , name1 )"
   ]
  },
  {
   "cell_type": "code",
   "execution_count": 6,
   "id": "9e54e205",
   "metadata": {},
   "outputs": [
    {
     "name": "stdout",
     "output_type": "stream",
     "text": [
      "price of bag 2300\n",
      "price of jwellery 50000\n",
      "total is 52300\n"
     ]
    }
   ],
   "source": [
    "# 6. Write a python program which takes two inputs from user and print them addition.\n",
    "\n",
    "a = int(input(\"price of bag \"))\n",
    "b = int(input(\"price of jwellery \"))\n",
    "print(\"total is\",a + b)"
   ]
  },
  {
   "cell_type": "code",
   "execution_count": 7,
   "id": "de44bc63",
   "metadata": {},
   "outputs": [
    {
     "name": "stdout",
     "output_type": "stream",
     "text": [
      "Enter english marks 57\n",
      "Enter urdu marks 64\n",
      "Enter science marks 78\n",
      "Enter mathematics marks 61\n",
      "Grade is C\n"
     ]
    }
   ],
   "source": [
    "\"\"\" 7. Write a program which takes 5 inputs from user for different subject's marks, total it and generate mark sheet using\n",
    " grades? \"\"\"\n",
    "    \n",
    "a = int(input(\"Enter english marks \"));\n",
    "b = int(input(\"Enter urdu marks \"));\n",
    "c = int(input(\"Enter science marks \"));\n",
    "d = int(input(\"Enter mathematics marks \"));\n",
    "total = 400;\n",
    "percentage  = (a + b + c + d )/total * 100\n",
    "if percentage <= 100 and percentage >= 80:\n",
    "    print(\"Grade is A\")\n",
    "elif percentage <= 80 and percentage >= 70:\n",
    "    print(\"Grade is B\")\n",
    "elif percentage <= 70 and percentage >= 60:\n",
    "    print(\"Grade is C\")\n",
    "elif percentage <= 60 and percentage >= 50:\n",
    "    print(\"Grade is D\")\n",
    "elif percentage <= 50 and percentage >= 40:\n",
    "    print(\"Grade is E\")\n",
    "elif percentage < 33:\n",
    "    print(\"Grade is F\")\n",
    "else:\n",
    "    print(\"Fail\")"
   ]
  },
  {
   "cell_type": "code",
   "execution_count": 8,
   "id": "eb52e872",
   "metadata": {},
   "outputs": [
    {
     "name": "stdout",
     "output_type": "stream",
     "text": [
      "Enter the integer number 21\n",
      "21 is odd number\n"
     ]
    }
   ],
   "source": [
    "# 8. Write a program which take input from user and identify that the given number is even or odd?\n",
    "\n",
    "number  = int(input(\"Enter the integer number \"));\n",
    "remainder = number%2\n",
    "if remainder == 0:\n",
    "    print(number,\"is even number\");\n",
    "else:\n",
    "    print(number,\"is odd number\")\n"
   ]
  },
  {
   "cell_type": "code",
   "execution_count": 9,
   "id": "0705171c",
   "metadata": {},
   "outputs": [
    {
     "name": "stdout",
     "output_type": "stream",
     "text": [
      "length of list is 9\n"
     ]
    }
   ],
   "source": [
    "# 9. Write a program which print the length of the list?\n",
    "\n",
    "myList = [32, 45, 1, 114, 367, 23, 78, 43, 16];\n",
    "\n",
    "print(\"length of list is\",len(myList));"
   ]
  },
  {
   "cell_type": "code",
   "execution_count": 10,
   "id": "330f6139",
   "metadata": {},
   "outputs": [
    {
     "name": "stdout",
     "output_type": "stream",
     "text": [
      "108\n"
     ]
    }
   ],
   "source": [
    "# 10. Write a Python program to sum all the numeric items in a list?\n",
    "\n",
    "list = [23, 14, 18, 42, 11]\n",
    "total = sum(list)\n",
    "print( total )"
   ]
  },
  {
   "cell_type": "code",
   "execution_count": 11,
   "id": "1b3f38c0",
   "metadata": {},
   "outputs": [
    {
     "name": "stdout",
     "output_type": "stream",
     "text": [
      "Largest number from the numeric list is  984\n"
     ]
    }
   ],
   "source": [
    "# 11. Write a Python program to get the largest number from a numeric list.\n",
    "\n",
    "number = [555, 113, 676, 984, 120]\n",
    "largest = max(number)\n",
    "print(\"Largest number from the numeric list is \", largest)"
   ]
  },
  {
   "cell_type": "code",
   "execution_count": 13,
   "id": "761faa38",
   "metadata": {},
   "outputs": [
    {
     "name": "stdout",
     "output_type": "stream",
     "text": [
      "[1, 1, 2, 3]\n"
     ]
    }
   ],
   "source": [
    "# 12. Take a list, write a program that prints out all the elements of list that are less than 5.\n",
    "a = [1, 1, 2, 3, 5, 8, 13, 21, 34, 55, 89]\n",
    "print(a[:4])"
   ]
  }
 ],
 "metadata": {
  "kernelspec": {
   "display_name": "Python 3",
   "language": "python",
   "name": "python3"
  },
  "language_info": {
   "codemirror_mode": {
    "name": "ipython",
    "version": 3
   },
   "file_extension": ".py",
   "mimetype": "text/x-python",
   "name": "python",
   "nbconvert_exporter": "python",
   "pygments_lexer": "ipython3",
   "version": "3.8.8"
  }
 },
 "nbformat": 4,
 "nbformat_minor": 5
}
